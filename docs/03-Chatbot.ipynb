{
 "cells": [
  {
   "cell_type": "markdown",
   "source": [
    "# Pattern Matching\n",
    "Innebygd i Python finnes det en funksjon som sammenligner verdier og tilbyr ulike utfall basert på verdiene. I andre språk kan det minne om noe som heter en [switch statement](https://www.w3schools.com/js/js_switch.asp). Match patterns tar en verdi og gir ulike `cases` basert på verdien(e).\n",
    "\n",
    "Vi ser først et eksempel av en pattern match, som bruker syntaksen `match <verdi>` og sammenligner `<verdi>` med ulike `case`. Dersom verdien ikke matcher noen av casene, kan man fange den opp via `case _:` syntaksen. Prøv å kjør følgende code-snippet:"
   ],
   "metadata": {
    "collapsed": false,
    "pycharm": {
     "name": "#%% md\n"
    }
   }
  },
  {
   "cell_type": "code",
   "execution_count": 32,
   "outputs": [
    {
     "name": "stdout",
     "output_type": "stream",
     "text": [
      "Tallet er 1\n",
      "Tallet er 2\n",
      "Tallet er hverken 1 eller 2\n"
     ]
    }
   ],
   "source": [
    "def match_example(num: int):\n",
    "    match num:\n",
    "        case 1:\n",
    "            print(\"Tallet er 1\")\n",
    "        case 2:\n",
    "            print(\"Tallet er 2\")\n",
    "        case _:\n",
    "            print(\"Tallet er hverken 1 eller 2\")\n",
    "\n",
    "match_example(1)\n",
    "match_example(2)\n",
    "match_example(3)"
   ],
   "metadata": {
    "collapsed": false,
    "pycharm": {
     "name": "#%%\n"
    }
   }
  },
  {
   "cell_type": "markdown",
   "source": [
    "# Fordel med match & chatterobot\n",
    "En matchende `case` har også muligheter til å generere objekter (variabler) dersom man matcher verdien til en liste, dette er særdeles nyttig dersom man lager for eksempel en chatterobot. Ved å bryte opp en tekst via `.split()` funksjonen, kan man håndtere verdier som kommer etter en kommando, som i følgende eksempel:"
   ],
   "metadata": {
    "collapsed": false,
    "pycharm": {
     "name": "#%% md\n"
    }
   }
  },
  {
   "cell_type": "code",
   "execution_count": 9,
   "outputs": [
    {
     "name": "stdout",
     "output_type": "stream",
     "text": [
      "Playing url: https://www.youtube.com/watch?v=dQw4w9WgXcQ\n",
      "11\n",
      "Invalid Command 'test'\n"
     ]
    }
   ],
   "source": [
    "def run_command(command: str):\n",
    "    match command.split():\n",
    "        case [\"play\", url]:\n",
    "            print(f'Playing url: {url}')\n",
    "        case [\"sum\", no1, no2]:\n",
    "            print(int(no1) + int(no2))\n",
    "        case _:\n",
    "            print(f'Invalid Command {command!r}')\n",
    "\n",
    "run_command('play https://www.youtube.com/watch?v=dQw4w9WgXcQ')\n",
    "run_command('sum 5 6')\n",
    "run_command('test')"
   ],
   "metadata": {
    "collapsed": false,
    "pycharm": {
     "name": "#%%\n"
    }
   }
  },
  {
   "cell_type": "markdown",
   "source": [
    "# Flere syntakser\n",
    "Ved å bruke `|` symbolet i stedet for `,` symbolet kan man også matche flere variasjoner under samme case."
   ],
   "metadata": {
    "collapsed": false,
    "pycharm": {
     "name": "#%% md\n"
    }
   }
  },
  {
   "cell_type": "code",
   "execution_count": 12,
   "outputs": [
    {
     "name": "stdout",
     "output_type": "stream",
     "text": [
      "Multiple syntaxes\n",
      "Multiple syntaxes\n",
      "Multiple syntaxes, with argument: argument\n",
      "Multiple syntaxes, with argument: argument\n"
     ]
    }
   ],
   "source": [
    "def run_command2(command: str):\n",
    "    match command.split():\n",
    "        case ['syntax1' | 'syntax2']:\n",
    "            print('Multiple syntaxes')\n",
    "        case ['syntax3' | 'syntax4', args]:\n",
    "            print(f'Multiple syntaxes, with argument: {args}')\n",
    "\n",
    "run_command2('syntax1')\n",
    "run_command2('syntax2')\n",
    "run_command2('syntax3 argument')\n",
    "run_command2('syntax3 argument')"
   ],
   "metadata": {
    "collapsed": false,
    "pycharm": {
     "name": "#%%\n"
    }
   }
  },
  {
   "cell_type": "markdown",
   "source": [
    "# Samle flere argumenter i ett objekt; `*<objekt>` (f.eks. `*rest`)\n",
    "Dersom du behøver flere argumenter, eller har en mer avansert funksjon, kan du hente hele argumentet via et `*<objekt>` med `*` som første tegn i variabelen. Kjør snippeten for et eksempel:"
   ],
   "metadata": {
    "collapsed": false,
    "pycharm": {
     "name": "#%% md\n"
    }
   }
  },
  {
   "cell_type": "code",
   "execution_count": 18,
   "outputs": [
    {
     "name": "stdout",
     "output_type": "stream",
     "text": [
      "Quitting\n",
      "Force quitting\n",
      "Force quitting\n",
      "25\n",
      "en\n",
      "to\n",
      "tre\n",
      "fire\n"
     ]
    }
   ],
   "source": [
    "def run_command3(command: str):\n",
    "    match command.split():\n",
    "        case ['quit', *rest]:\n",
    "            if '--force' in rest or '-f' in rest:\n",
    "                print('Force quitting')\n",
    "                return\n",
    "            print('Quitting')\n",
    "        case ['sum', *rest]:\n",
    "            result = 0\n",
    "            for number in rest:\n",
    "                result += int(number)\n",
    "            print(result)\n",
    "        case ['list', *rest]:\n",
    "            for val in rest:\n",
    "                print(val)\n",
    "\n",
    "run_command3('quit')\n",
    "run_command3('quit -f')\n",
    "run_command3('quit --force')\n",
    "run_command3('sum 5 5 5 5 5')\n",
    "run_command3('list en to tre fire')\n"
   ],
   "metadata": {
    "collapsed": false,
    "pycharm": {
     "name": "#%%\n"
    }
   }
  }
 ],
 "metadata": {
  "kernelspec": {
   "display_name": "Python 3",
   "language": "python",
   "name": "python3"
  },
  "language_info": {
   "codemirror_mode": {
    "name": "ipython",
    "version": 2
   },
   "file_extension": ".py",
   "mimetype": "text/x-python",
   "name": "python",
   "nbconvert_exporter": "python",
   "pygments_lexer": "ipython2",
   "version": "2.7.6"
  }
 },
 "nbformat": 4,
 "nbformat_minor": 0
}